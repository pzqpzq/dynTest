{
 "cells": [
  {
   "cell_type": "code",
   "execution_count": 1,
   "id": "bb8d95cf",
   "metadata": {},
   "outputs": [],
   "source": [
    "\n",
    "import matplotlib.pyplot as plt\n",
    "import numpy as np\n",
    "import time\n",
    "import random\n",
    "from scipy.spatial.distance import cdist\n"
   ]
  },
  {
   "cell_type": "code",
   "execution_count": 2,
   "id": "4fb81794",
   "metadata": {},
   "outputs": [],
   "source": [
    "\n",
    "\n",
    "def forward_layers(Qs, lambdas):\n",
    "    \n",
    "    dist_Qs = np.array([cdist(Qs[Q_id][0],Qs[Q_id][1]) for Q_id in range(num_Qs)])\n",
    "    weighted_sum_mat = np.sum(dist_Qs*lambdas.reshape(num_Qs,1,1), axis=0)\n",
    "    return weighted_sum_mat\n",
    "\n",
    "def rel_position(cur_q, nex_q):\n",
    "    # cur_q, nex_q are n*d matrices\n",
    "    res_pos = []\n",
    "    for q_id in range(cur_q.shape[0]):\n",
    "        res_pos.append(cur_q[q_id].reshape(1,Q_dim) - nex_q)\n",
    "    return np.array(res_pos)\n",
    "\n",
    "\n",
    "def _update_params_horiz(cur_coords, nex_coords, lambdas, t_mat, learning_rate=0.002):\n",
    "    \n",
    "    Q_rol = cur_coords.shape[1]\n",
    "    Q_col = nex_coords.shape[1]\n",
    "    \n",
    "    rel_dist_list = np.array([5*(cdist(cur_coords[set_id], nex_coords[set_id])-0.5) for set_id in range(num_Qs)]) \n",
    "    rel_vect_list = np.array([rel_position(cur_coords[set_id], nex_coords[set_id]) for set_id in range(num_Qs)])\n",
    "    res_mat = np.sum(rel_dist_list*lambdas.reshape(num_Qs,1,1), axis=0)\n",
    "    res_error = (res_mat - t_mat)*indicator_T\n",
    "        \n",
    "    for Q_id in range(num_Qs):  \n",
    "        cur_lambda = lambdas[Q_id]\n",
    "        rel_dist_M = rel_dist_list[Q_id]\n",
    "        rel_vect_M = rel_vect_list[Q_id]\n",
    "        \n",
    "        resize_error = np.repeat(res_error.reshape(Q_rol,Q_col,1),Q_dim,axis=1).reshape(Q_rol,Q_col,Q_dim)\n",
    "\n",
    "        _delta = 2*cur_lambda*rel_vect_M*resize_error\n",
    "        \n",
    "        cur_coords[Q_id] -= learning_rate*np.sum(_delta,axis=1)\n",
    "        nex_coords[Q_id] += learning_rate*np.sum(_delta,axis=0)  \n",
    "        lambdas[Q_id] -= learning_rate*np.sum(rel_dist_M*res_error)\n",
    "        \n",
    "    return cur_coords, nex_coords, lambdas, np.sum(abs(res_error))\n",
    "\n",
    "\n"
   ]
  },
  {
   "cell_type": "code",
   "execution_count": 3,
   "id": "721d4c61",
   "metadata": {},
   "outputs": [],
   "source": [
    "\n",
    "num_inputs = 20\n",
    "num_hidden = 20\n",
    "density = 0.5\n",
    "sparse_mat = True\n",
    "\n",
    "target_T = np.random.randn(num_inputs,num_hidden)\n",
    "\n",
    "indicator_T = np.zeros((num_inputs,num_hidden))\n",
    "\n",
    "if sparse_mat:\n",
    "    for row_id in range(num_inputs):\n",
    "        for col_id in range(num_hidden):\n",
    "            if random.random() < density:\n",
    "                indicator_T[row_id][col_id] = 1\n"
   ]
  },
  {
   "cell_type": "code",
   "execution_count": 5,
   "id": "1a4b8a58",
   "metadata": {
    "scrolled": true
   },
   "outputs": [
    {
     "name": "stdout",
     "output_type": "stream",
     "text": [
      "0 : 187.7353901328517\n",
      "2000 : 127.29095421033509\n",
      "4000 : 95.83444883872421\n",
      "6000 : 63.76997636848253\n",
      "8000 : 41.220902964116924\n",
      "10000 : 27.796919909493145\n",
      "12000 : 19.78156978747509\n",
      "14000 : 14.566381009944646\n",
      "16000 : 11.052066116438777\n",
      "18000 : 8.55147316194629\n",
      "20000 : 6.798326132931509\n",
      "22000 : 5.5177793569801175\n",
      "24000 : 4.573955118338496\n",
      "26000 : 3.8394312507097226\n",
      "28000 : 3.2568669443520726\n",
      "30000 : 2.7820128087057725\n",
      "32000 : 2.390748388944211\n",
      "34000 : 2.075127544362104\n",
      "36000 : 1.8084635778678653\n",
      "38000 : 1.581003562184453\n",
      "40000 : 1.387697137946039\n",
      "42000 : 1.222003393608245\n",
      "44000 : 1.0772882437862064\n",
      "46000 : 0.9532981007779956\n",
      "48000 : 0.8461019259427287\n",
      "50000 : 0.7514334912162988\n"
     ]
    },
    {
     "ename": "KeyboardInterrupt",
     "evalue": "",
     "output_type": "error",
     "traceback": [
      "\u001b[0;31m---------------------------------------------------------------------------\u001b[0m",
      "\u001b[0;31mKeyboardInterrupt\u001b[0m                         Traceback (most recent call last)",
      "\u001b[0;32m/var/folders/hg/b92hf0r56hb4mrb3y64dq0400000gn/T/ipykernel_4564/3414362780.py\u001b[0m in \u001b[0;36m<module>\u001b[0;34m\u001b[0m\n\u001b[1;32m      9\u001b[0m \u001b[0;34m\u001b[0m\u001b[0m\n\u001b[1;32m     10\u001b[0m \u001b[0;32mfor\u001b[0m \u001b[0mep\u001b[0m \u001b[0;32min\u001b[0m \u001b[0mrange\u001b[0m\u001b[0;34m(\u001b[0m\u001b[0;36m300000\u001b[0m\u001b[0;34m)\u001b[0m\u001b[0;34m:\u001b[0m\u001b[0;34m\u001b[0m\u001b[0;34m\u001b[0m\u001b[0m\n\u001b[0;32m---> 11\u001b[0;31m     \u001b[0mx_coords\u001b[0m\u001b[0;34m,\u001b[0m \u001b[0mh_coords\u001b[0m\u001b[0;34m,\u001b[0m \u001b[0mlambdas_xh\u001b[0m\u001b[0;34m,\u001b[0m \u001b[0merror\u001b[0m \u001b[0;34m=\u001b[0m \u001b[0m_update_params_horiz\u001b[0m\u001b[0;34m(\u001b[0m\u001b[0mx_coords\u001b[0m\u001b[0;34m,\u001b[0m \u001b[0mh_coords\u001b[0m\u001b[0;34m,\u001b[0m \u001b[0mlambdas_xh\u001b[0m\u001b[0;34m,\u001b[0m \u001b[0mtarget_T\u001b[0m\u001b[0;34m,\u001b[0m \u001b[0mlearning_rate\u001b[0m\u001b[0;34m=\u001b[0m\u001b[0mstep_size\u001b[0m\u001b[0;34m)\u001b[0m\u001b[0;34m\u001b[0m\u001b[0;34m\u001b[0m\u001b[0m\n\u001b[0m\u001b[1;32m     12\u001b[0m \u001b[0;34m\u001b[0m\u001b[0m\n\u001b[1;32m     13\u001b[0m     \u001b[0;32mif\u001b[0m \u001b[0mep\u001b[0m\u001b[0;34m%\u001b[0m\u001b[0;36m2000\u001b[0m \u001b[0;34m==\u001b[0m \u001b[0;36m0\u001b[0m\u001b[0;34m:\u001b[0m \u001b[0mprint\u001b[0m\u001b[0;34m(\u001b[0m\u001b[0mep\u001b[0m\u001b[0;34m,\u001b[0m \u001b[0;34m':'\u001b[0m\u001b[0;34m,\u001b[0m \u001b[0merror\u001b[0m\u001b[0;34m)\u001b[0m\u001b[0;34m\u001b[0m\u001b[0;34m\u001b[0m\u001b[0m\n",
      "\u001b[0;32m/var/folders/hg/b92hf0r56hb4mrb3y64dq0400000gn/T/ipykernel_4564/654912660.py\u001b[0m in \u001b[0;36m_update_params_horiz\u001b[0;34m(cur_coords, nex_coords, lambdas, t_mat, learning_rate)\u001b[0m\n\u001b[1;32m     30\u001b[0m         \u001b[0mresize_error\u001b[0m \u001b[0;34m=\u001b[0m \u001b[0mnp\u001b[0m\u001b[0;34m.\u001b[0m\u001b[0mrepeat\u001b[0m\u001b[0;34m(\u001b[0m\u001b[0mres_error\u001b[0m\u001b[0;34m.\u001b[0m\u001b[0mreshape\u001b[0m\u001b[0;34m(\u001b[0m\u001b[0mQ_rol\u001b[0m\u001b[0;34m,\u001b[0m\u001b[0mQ_col\u001b[0m\u001b[0;34m,\u001b[0m\u001b[0;36m1\u001b[0m\u001b[0;34m)\u001b[0m\u001b[0;34m,\u001b[0m\u001b[0mQ_dim\u001b[0m\u001b[0;34m,\u001b[0m\u001b[0maxis\u001b[0m\u001b[0;34m=\u001b[0m\u001b[0;36m1\u001b[0m\u001b[0;34m)\u001b[0m\u001b[0;34m.\u001b[0m\u001b[0mreshape\u001b[0m\u001b[0;34m(\u001b[0m\u001b[0mQ_rol\u001b[0m\u001b[0;34m,\u001b[0m\u001b[0mQ_col\u001b[0m\u001b[0;34m,\u001b[0m\u001b[0mQ_dim\u001b[0m\u001b[0;34m)\u001b[0m\u001b[0;34m\u001b[0m\u001b[0;34m\u001b[0m\u001b[0m\n\u001b[1;32m     31\u001b[0m \u001b[0;34m\u001b[0m\u001b[0m\n\u001b[0;32m---> 32\u001b[0;31m         \u001b[0m_delta\u001b[0m \u001b[0;34m=\u001b[0m \u001b[0;36m2\u001b[0m\u001b[0;34m*\u001b[0m\u001b[0mcur_lambda\u001b[0m\u001b[0;34m*\u001b[0m\u001b[0mrel_vect_M\u001b[0m\u001b[0;34m*\u001b[0m\u001b[0mresize_error\u001b[0m\u001b[0;34m\u001b[0m\u001b[0;34m\u001b[0m\u001b[0m\n\u001b[0m\u001b[1;32m     33\u001b[0m \u001b[0;34m\u001b[0m\u001b[0m\n\u001b[1;32m     34\u001b[0m         \u001b[0mcur_coords\u001b[0m\u001b[0;34m[\u001b[0m\u001b[0mQ_id\u001b[0m\u001b[0;34m]\u001b[0m \u001b[0;34m-=\u001b[0m \u001b[0mlearning_rate\u001b[0m\u001b[0;34m*\u001b[0m\u001b[0mnp\u001b[0m\u001b[0;34m.\u001b[0m\u001b[0msum\u001b[0m\u001b[0;34m(\u001b[0m\u001b[0m_delta\u001b[0m\u001b[0;34m,\u001b[0m\u001b[0maxis\u001b[0m\u001b[0;34m=\u001b[0m\u001b[0;36m1\u001b[0m\u001b[0;34m)\u001b[0m\u001b[0;34m\u001b[0m\u001b[0;34m\u001b[0m\u001b[0m\n",
      "\u001b[0;31mKeyboardInterrupt\u001b[0m: "
     ]
    }
   ],
   "source": [
    "\n",
    "Q_dim = 3\n",
    "num_Qs = 5\n",
    "step_size = 0.0001\n",
    "\n",
    "x_coords = np.random.rand(num_Qs, num_inputs,Q_dim)\n",
    "h_coords = np.random.rand(num_Qs, num_hidden,Q_dim)\n",
    "\n",
    "lambdas_xh = np.random.rand(num_Qs,1)/(0.5*num_Qs)\n",
    "\n",
    "for ep in range(300000):\n",
    "    x_coords, h_coords, lambdas_xh, error = _update_params_horiz(x_coords, h_coords, lambdas_xh, target_T, learning_rate=step_size)\n",
    "    \n",
    "    if ep%2000 == 0: print(ep, ':', error)\n",
    "\n",
    "\n"
   ]
  },
  {
   "cell_type": "code",
   "execution_count": null,
   "id": "d307234d",
   "metadata": {},
   "outputs": [],
   "source": []
  },
  {
   "cell_type": "code",
   "execution_count": null,
   "id": "4de770f9",
   "metadata": {
    "scrolled": true
   },
   "outputs": [],
   "source": [
    "\n",
    "#target_T[20:30,10:20]\n",
    "(target_T*indicator_T)[20:30,10:20]\n"
   ]
  },
  {
   "cell_type": "code",
   "execution_count": null,
   "id": "2619c261",
   "metadata": {},
   "outputs": [],
   "source": [
    "\n",
    "def recover_mat(cur_coords, nex_coords, lambdas):\n",
    "    rel_dist_list = np.array([5*(cdist(cur_coords[set_id], nex_coords[set_id])-0.5) for set_id in range(num_Qs)]) \n",
    "    rel_vect_list = np.array([rel_position(cur_coords[set_id], nex_coords[set_id]) for set_id in range(num_Qs)])\n",
    "    res_mat = np.sum(rel_dist_list*lambdas.reshape(num_Qs,1,1), axis=0)\n",
    "    \n",
    "    return res_mat\n",
    "\n",
    "\n",
    "rec_mat = recover_mat(x_coords, h_coords, lambdas_xh)\n",
    "\n",
    "#rec_mat[20:30,10:20]\n",
    "(rec_mat*indicator_T)[20:30,10:20]\n"
   ]
  },
  {
   "cell_type": "code",
   "execution_count": null,
   "id": "30d77b1c",
   "metadata": {},
   "outputs": [],
   "source": []
  },
  {
   "cell_type": "code",
   "execution_count": null,
   "id": "41692a11",
   "metadata": {},
   "outputs": [],
   "source": []
  }
 ],
 "metadata": {
  "kernelspec": {
   "display_name": "Python 3 (ipykernel)",
   "language": "python",
   "name": "python3"
  },
  "language_info": {
   "codemirror_mode": {
    "name": "ipython",
    "version": 3
   },
   "file_extension": ".py",
   "mimetype": "text/x-python",
   "name": "python",
   "nbconvert_exporter": "python",
   "pygments_lexer": "ipython3",
   "version": "3.8.13"
  }
 },
 "nbformat": 4,
 "nbformat_minor": 5
}
